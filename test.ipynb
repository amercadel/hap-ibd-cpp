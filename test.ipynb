{
 "cells": [
  {
   "cell_type": "code",
   "execution_count": 182,
   "metadata": {},
   "outputs": [],
   "source": [
    "class segment:\n",
    "    def __init__(self, hap1, hap2, start_bp, end_bp):\n",
    "        self.hap1 = hap1\n",
    "        self.hap2 = hap2\n",
    "        self.start_bp = start_bp\n",
    "        self.end_bp = end_bp\n",
    "        self.string = None\n",
    "\n",
    "    def __hash__(self):\n",
    "        s = f\"{self.hap1}{self.hap2}{self.start_bp}{self.end_bp}\"\n",
    "        hash_value = 0\n",
    "        for char in s:\n",
    "            hash_value = (hash_value * 31 + ord(char)) % 100  # Simple hash function\n",
    "        return hash_value\n",
    "        \n",
    "    \n",
    "    def __repr__(self):\n",
    "        return f\"{self.hap1}\\t{self.hap2}\\t{self.start_bp}\\t{self.end_bp}\"\n",
    "    \n",
    "    def __eq__(self, value: object) -> bool:\n",
    "        if (self.hap1 == value.hap1) and (self.hap2 == value.hap2) and (self.start_bp == value.start_bp) and (self.end_bp == value.end_bp):\n",
    "            return True\n",
    "        else:\n",
    "            return False\n",
    "    \n",
    "\n",
    "def process_file(input_file):\n",
    "    f = open(input_file)\n",
    "    data = f.readlines()\n",
    "    f.close()\n",
    "    objs = []\n",
    "    data = [i.strip().split(\"\\t\") for i in data]\n",
    "    for i in range(len(data)):\n",
    "        hap1 = int(data[i][0].split(\"_\")[1]) * 2 + (int(data[i][1]) - 1)\n",
    "        hap2 = int(data[i][2].split(\"_\")[1]) * 2 + (int(data[i][3]) - 1)\n",
    "        start = int(data[i][5])\n",
    "        end = int(data[i][6])\n",
    "        s = segment(hap1, hap2, start, end)\n",
    "        s.string = data[i]\n",
    "        objs.append(s)\n",
    "        data[i][7] = str(float(data[i][7]))\n",
    "    data = [\"|\".join(i) for i in data]\n",
    "    return data, objs"
   ]
  },
  {
   "cell_type": "code",
   "execution_count": null,
   "metadata": {},
   "outputs": [],
   "source": []
  },
  {
   "cell_type": "code",
   "execution_count": 28,
   "metadata": {},
   "outputs": [],
   "source": []
  },
  {
   "cell_type": "code",
   "execution_count": 183,
   "metadata": {},
   "outputs": [],
   "source": [
    "my_output, my_objs = process_file(\"build/output.txt\")\n",
    "hap_ibd, haps_objs = process_file(\"../eas_segments.ibd\")"
   ]
  },
  {
   "cell_type": "code",
   "execution_count": 184,
   "metadata": {},
   "outputs": [],
   "source": [
    "my_output_l = [i.strip().split(\"|\") for i in my_output]\n",
    "hap_ibd_l = [i.strip().split(\"|\") for i in hap_ibd]"
   ]
  },
  {
   "cell_type": "code",
   "execution_count": 185,
   "metadata": {},
   "outputs": [],
   "source": [
    "ms_objs = set(my_objs)\n",
    "hs_objs = set(haps_objs)"
   ]
  },
  {
   "cell_type": "code",
   "execution_count": 186,
   "metadata": {},
   "outputs": [
    {
     "data": {
      "text/plain": [
       "set()"
      ]
     },
     "execution_count": 186,
     "metadata": {},
     "output_type": "execute_result"
    }
   ],
   "source": [
    "hs_objs.difference(ms_objs)"
   ]
  },
  {
   "cell_type": "code",
   "execution_count": 190,
   "metadata": {},
   "outputs": [
    {
     "data": {
      "text/plain": [
       "20401"
      ]
     },
     "execution_count": 190,
     "metadata": {},
     "output_type": "execute_result"
    }
   ],
   "source": [
    "len(hs_objs.intersection(ms_objs))"
   ]
  },
  {
   "cell_type": "code",
   "execution_count": 176,
   "metadata": {},
   "outputs": [
    {
     "data": {
      "text/plain": [
       "[['tsk_989', '2', 'tsk_997', '1', '20', '4617307', '5236591', '2.377']]"
      ]
     },
     "execution_count": 176,
     "metadata": {},
     "output_type": "execute_result"
    }
   ],
   "source": [
    "[i for i in hap_ibd_l if i[0] == \"tsk_989\" and i[2] == \"tsk_997\"]"
   ]
  },
  {
   "cell_type": "code",
   "execution_count": 177,
   "metadata": {},
   "outputs": [
    {
     "data": {
      "text/plain": [
       "[]"
      ]
     },
     "execution_count": 177,
     "metadata": {},
     "output_type": "execute_result"
    }
   ],
   "source": [
    "[i for i in my_output_l if i[0] == \"tsk_989\" and i[2] == \"tsk_997\"]"
   ]
  },
  {
   "cell_type": "code",
   "execution_count": 79,
   "metadata": {},
   "outputs": [],
   "source": [
    "with open(\"build/intermediate_matches_0.txt\", \"r\") as file:\n",
    "    intermediate_matches = [line.strip().split(\"\\t\") for line in file.readlines()]"
   ]
  },
  {
   "cell_type": "code",
   "execution_count": 179,
   "metadata": {},
   "outputs": [],
   "source": [
    "x = [i for i in intermediate_matches if (i[2] == \"1994\" and i[1] == \"1979\") or (i[1] == \"1994\" and i[2] == \"1979\")]"
   ]
  },
  {
   "cell_type": "code",
   "execution_count": 180,
   "metadata": {},
   "outputs": [
    {
     "data": {
      "text/plain": [
       "[['MATCH', '1979', '1994', '49553', '53261', '3708'],\n",
       " ['MATCH', '1979', '1994', '1971', '2822', '851'],\n",
       " ['MATCH', '1994', '1979', '7174', '7997', '823'],\n",
       " ['MATCH', '1994', '1979', '44889', '45432', '543'],\n",
       " ['MATCH', '1979', '1994', '37030', '37428', '398']]"
      ]
     },
     "execution_count": 180,
     "metadata": {},
     "output_type": "execute_result"
    }
   ],
   "source": [
    "sorted(x, key=lambda x: int(x[5]), reverse=True)"
   ]
  }
 ],
 "metadata": {
  "kernelspec": {
   "display_name": "uth_research",
   "language": "python",
   "name": "python3"
  },
  "language_info": {
   "codemirror_mode": {
    "name": "ipython",
    "version": 3
   },
   "file_extension": ".py",
   "mimetype": "text/x-python",
   "name": "python",
   "nbconvert_exporter": "python",
   "pygments_lexer": "ipython3",
   "version": "3.13.0"
  }
 },
 "nbformat": 4,
 "nbformat_minor": 2
}
