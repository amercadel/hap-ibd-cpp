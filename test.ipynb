{
 "cells": [
  {
   "cell_type": "code",
   "execution_count": 1,
   "metadata": {},
   "outputs": [],
   "source": [
    "def calculate_windows(L, S, T):\n",
    "    \"\"\"\n",
    "    Calculate overlapping marker windows for IBS segment detection.\n",
    "\n",
    "    Parameters:\n",
    "    L (float): Genetic distance between first and last markers on the chromosome (in cM).\n",
    "    S (float): Minimum seed genetic length (in cM).\n",
    "    T (int): Number of computational threads (or windows).\n",
    "\n",
    "    Returns:\n",
    "    List of tuples where each tuple represents the start and end of a window.\n",
    "    \"\"\"\n",
    "    # Length of each window\n",
    "    window_length = (L - S) / T + S\n",
    "    \n",
    "    # Amount of distance between last marker of window i and first marker of window i+1\n",
    "    distance_between_windows = (L - S) / T\n",
    "    \n",
    "    windows = []\n",
    "    start_position = 0  # Start of the first window\n",
    "\n",
    "    for i in range(T):\n",
    "        # End position for current window\n",
    "        end_position = start_position + window_length\n",
    "        \n",
    "        # Add the window (start, end) to the list\n",
    "        windows.append((start_position, end_position))\n",
    "        \n",
    "        # Start position for the next window\n",
    "        start_position += distance_between_windows\n",
    "\n",
    "    return windows"
   ]
  },
  {
   "cell_type": "code",
   "execution_count": 2,
   "metadata": {},
   "outputs": [
    {
     "data": {
      "text/plain": [
       "[(0, 28.56675), (26.56675, 55.1335), (53.1335, 81.70025), (79.70025, 108.267)]"
      ]
     },
     "execution_count": 2,
     "metadata": {},
     "output_type": "execute_result"
    }
   ],
   "source": [
    "calculate_windows(108.267, 2.0, 4)"
   ]
  }
 ],
 "metadata": {
  "kernelspec": {
   "display_name": "Python 3",
   "language": "python",
   "name": "python3"
  },
  "language_info": {
   "codemirror_mode": {
    "name": "ipython",
    "version": 3
   },
   "file_extension": ".py",
   "mimetype": "text/x-python",
   "name": "python",
   "nbconvert_exporter": "python",
   "pygments_lexer": "ipython3",
   "version": "3.9.7"
  }
 },
 "nbformat": 4,
 "nbformat_minor": 2
}
